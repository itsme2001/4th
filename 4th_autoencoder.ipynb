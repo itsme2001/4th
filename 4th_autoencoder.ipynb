{
  "nbformat": 4,
  "nbformat_minor": 0,
  "metadata": {
    "colab": {
      "provenance": []
    },
    "kernelspec": {
      "name": "python3",
      "display_name": "Python 3"
    },
    "language_info": {
      "name": "python"
    }
  },
  "cells": [
    {
      "cell_type": "code",
      "execution_count": 3,
      "metadata": {
        "id": "Ag4ZA4rrcmUl"
      },
      "outputs": [],
      "source": [
        "import pandas as pd\n",
        "import numpy as np\n",
        "import tensorflow as tf\n",
        "import matplotlib.pyplot as plt\n",
        "import seaborn as sns\n",
        "from sklearn.model_selection import train_test_split\n",
        "from sklearn.preprocessing import StandardScaler\n",
        "from sklearn.metrics import confusion_matrix, recall_score, accuracy_score, precision_score"
      ]
    },
    {
      "cell_type": "code",
      "source": [
        "RANDOM_SEED = 2021\n",
        "TEST_PCT = 0.3\n",
        "LABELS = [\"Normal\",\"Fraud\"]\n",
        "dataset = pd.read_csv(\"creditcard.csv\")"
      ],
      "metadata": {
        "id": "SuQnVksgdIWV"
      },
      "execution_count": 4,
      "outputs": []
    },
    {
      "cell_type": "code",
      "source": [
        "#check for any null values\n",
        "print(\"Any nulls in the dataset\",dataset.isnull().values.any())\n",
        "print('-------')\n",
        "print(\"No. of unique labels\",len(dataset['Class'].unique()))\n",
        "print(\"Label values\",dataset.Class.unique())\n",
        "#0 is for normal credit card transcation\n",
        "#1 is for fraudulent credit card transcation\n",
        "print('-------')\n",
        "print(\"Break down of Normal and Fraud Transcations\")\n",
        "print(pd.value_counts(dataset['Class'],sort=True))"
      ],
      "metadata": {
        "colab": {
          "base_uri": "https://localhost:8080/"
        },
        "id": "ks_PassgF42Y",
        "outputId": "586412f4-c0ae-4f20-bcc4-6df4dbe50b9a"
      },
      "execution_count": 5,
      "outputs": [
        {
          "output_type": "stream",
          "name": "stdout",
          "text": [
            "Any nulls in the dataset True\n",
            "-------\n",
            "No. of unique labels 3\n",
            "Label values [ 0.  1. nan]\n",
            "-------\n",
            "Break down of Normal and Fraud Transcations\n",
            "0.0    59348\n",
            "1.0      162\n",
            "Name: Class, dtype: int64\n"
          ]
        }
      ]
    },
    {
      "cell_type": "code",
      "source": [
        "count_classes = pd.value_counts(dataset['Class'],sort=True)\n",
        "count_classes.plot(kind='bar',rot=0)\n",
        "plt.xticks(range(len(dataset['Class'].unique())),dataset.Class.unique())\n",
        "plt.title(\"Frequency by observation number\")\n",
        "plt.xlabel(\"Class\")\n",
        "plt.ylabel(\"Number of Observations\")"
      ],
      "metadata": {
        "id": "i4FaR5JSB-NY",
        "outputId": "a1b5760f-7b57-467e-f0cb-8db49b28e5e3",
        "colab": {
          "base_uri": "https://localhost:8080/",
          "height": 312
        }
      },
      "execution_count": 6,
      "outputs": [
        {
          "output_type": "execute_result",
          "data": {
            "text/plain": [
              "Text(0, 0.5, 'Number of Observations')"
            ]
          },
          "metadata": {},
          "execution_count": 6
        },
        {
          "output_type": "display_data",
          "data": {
            "text/plain": [
              "<Figure size 432x288 with 1 Axes>"
            ],
            "image/png": "[encoded data removed]"
          },
          "metadata": {
            "needs_background": "light"
          }
        }
      ]
    },
    {
      "cell_type": "code",
      "source": [
        "normal_dataset = dataset[dataset.Class == 0]\n",
        "fraud_dataset = dataset[dataset.Class == 1]\n",
        "#Visualize transcation amounts for normal and fraudulent transcations\n",
        "bins = np.linspace(200,2500,100)\n",
        "plt.hist(normal_dataset.Amount,bins=bins,alpha=1,density=True,label='Normal')\n",
        "plt.hist(fraud_dataset.Amount,bins=bins,alpha=0.5,density=True,label='Fraud')\n",
        "plt.legend(loc='upper right')\n",
        "plt.title(\"Transcation Amount vs Percentage of Transcations\")\n",
        "plt.xlabel(\"Transcation Amount (USD)\")\n",
        "plt.ylabel(\"Percentage of Transcations\")\n",
        "plt.show()"
      ],
      "metadata": {
        "id": "cay8zgUxCC3Q",
        "outputId": "8f685e8b-f338-4fa9-e1fd-7eeb6fe0f328",
        "colab": {
          "base_uri": "https://localhost:8080/",
          "height": 295
        }
      },
      "execution_count": 7,
      "outputs": [
        {
          "output_type": "display_data",
          "data": {
            "text/plain": [
              "<Figure size 432x288 with 1 Axes>"
            ],
            "image/png": "[encoded data removed]"
          },
          "metadata": {
            "needs_background": "light"
          }
        }
      ]
    },
    {
      "cell_type": "code",
      "source": [
        "dataset\n"
      ],
      "metadata": {
        "id": "kruoFjdYCDEf",
        "outputId": "ecb61d3c-c41f-4449-9000-6badba4b89b1",
        "colab": {
          "base_uri": "https://localhost:8080/",
          "height": 488
        }
      },
      "execution_count": 8,
      "outputs": [
        {
          "output_type": "execute_result",
          "data": {
            "text/plain": [
              "        Time        V1        V2        V3        V4        V5        V6  \\\n",
              "0          0 -1.359807 -0.072781  2.536347  1.378155 -0.338321  0.462388   \n",
              "1          0  1.191857  0.266151  0.166480  0.448154  0.060018 -0.082361   \n",
              "2          1 -1.358354 -1.340163  1.773209  0.379780 -0.503198  1.800499   \n",
              "3          1 -0.966272 -0.185226  1.792993 -0.863291 -0.010309  1.247203   \n",
              "4          2 -1.158233  0.877737  1.548718  0.403034 -0.407193  0.095921   \n",
              "...      ...       ...       ...       ...       ...       ...       ...   \n",
              "59506  48869  0.846847 -0.740109  1.734920  0.973051 -0.908455  1.955373   \n",
              "59507  48870 -0.293073  0.287754  1.076909 -1.498707  0.030389 -0.094332   \n",
              "59508  48870 -2.728620  2.789470 -0.019110 -0.345316 -0.983749 -0.665490   \n",
              "59509  48870 -0.118399  1.825136 -0.621394  0.294209  1.095673 -2.164019   \n",
              "59510  48871 -2.101431  0.822359  0.342028 -0.592551  1.344203  4.774187   \n",
              "\n",
              "             V7        V8        V9  ...       V21       V22       V23  \\\n",
              "0      0.239599  0.098698  0.363787  ... -0.018307  0.277838 -0.110474   \n",
              "1     -0.078803  0.085102 -0.255425  ... -0.225775 -0.638672  0.101288   \n",
              "2      0.791461  0.247676 -1.514654  ...  0.247998  0.771679  0.909412   \n",
              "3      0.237609  0.377436 -1.387024  ... -0.108300  0.005274 -0.190321   \n",
              "4      0.592941 -0.270533  0.817739  ... -0.009431  0.798278 -0.137458   \n",
              "...         ...       ...       ...  ...       ...       ...       ...   \n",
              "59506 -1.282036  0.785884  1.530679  ...  0.108577  0.830381  0.111284   \n",
              "59507  0.592840 -0.236917 -1.592913  ... -0.702190 -1.566421  0.092062   \n",
              "59508 -0.452156  1.174699  0.050815  ... -0.080194 -0.098998  0.034646   \n",
              "59509  1.102808 -1.244775 -0.734142  ...  0.595335 -0.750841 -0.418729   \n",
              "59510  0.214765  1.215894  1.024100  ...       NaN       NaN       NaN   \n",
              "\n",
              "            V24       V25       V26       V27       V28  Amount  Class  \n",
              "0      0.066928  0.128539 -0.189115  0.133558 -0.021053  149.62    0.0  \n",
              "1     -0.339846  0.167170  0.125895 -0.008983  0.014724    2.69    0.0  \n",
              "2     -0.689281 -0.327642 -0.139097 -0.055353 -0.059752  378.66    0.0  \n",
              "3     -1.175575  0.647376 -0.221929  0.062723  0.061458  123.50    0.0  \n",
              "4      0.141267 -0.206010  0.502292  0.219422  0.215153   69.99    0.0  \n",
              "...         ...       ...       ...       ...       ...     ...    ...  \n",
              "59506 -0.338765 -0.038436  0.663828  0.107897  0.023937   44.00    0.0  \n",
              "59507 -0.345236 -0.562907  0.566838 -0.462258 -0.231659   26.00    0.0  \n",
              "59508 -0.090487  0.025606  0.152858 -0.341898 -0.263507    1.99    0.0  \n",
              "59509  0.595806  1.411615 -0.561365  0.139271  0.280751    1.00    0.0  \n",
              "59510       NaN       NaN       NaN       NaN       NaN     NaN    NaN  \n",
              "\n",
              "[59511 rows x 31 columns]"
            ],
            "text/html": [
              "\n",
              "  <div id=\"df-4a22ebb3-1998-49d6-b051-1ba236f54eb0\">\n",
              "    <div class=\"colab-df-container\">\n",
              "      <div>\n",
              "<style scoped>\n",
              "    .dataframe tbody tr th:only-of-type {\n",
              "        vertical-align: middle;\n",
              "    }\n",
              "\n",
              "    .dataframe tbody tr th {\n",
              "        vertical-align: top;\n",
              "    }\n",
              "\n",
              "    .dataframe thead th {\n",
              "        text-align: right;\n",
              "    }\n",
              "</style>\n",
              "<table border=\"1\" class=\"dataframe\">\n",
              "  <thead>\n",
              "    <tr style=\"text-align: right;\">\n",
              "      <th></th>\n",
              "      <th>Time</th>\n",
              "      <th>V1</th>\n",
              "      <th>V2</th>\n",
              "      <th>V3</th>\n",
              "      <th>V4</th>\n",
              "      <th>V5</th>\n",
              "      <th>V6</th>\n",
              "      <th>V7</th>\n",
              "      <th>V8</th>\n",
              "      <th>V9</th>\n",
              "      <th>...</th>\n",
              "      <th>V21</th>\n",
              "      <th>V22</th>\n",
              "      <th>V23</th>\n",
              "      <th>V24</th>\n",
              "      <th>V25</th>\n",
              "      <th>V26</th>\n",
              "      <th>V27</th>\n",
              "      <th>V28</th>\n",
              "      <th>Amount</th>\n",
              "      <th>Class</th>\n",
              "    </tr>\n",
              "  </thead>\n",
              "  <tbody>\n",
              "    <tr>\n",
              "      <th>0</th>\n",
              "      <td>0</td>\n",
              "      <td>-1.359807</td>\n",
              "      <td>-0.072781</td>\n",
              "      <td>2.536347</td>\n",
              "      <td>1.378155</td>\n",
              "      <td>-0.338321</td>\n",
              "      <td>0.462388</td>\n",
              "      <td>0.239599</td>\n",
              "      <td>0.098698</td>\n",
              "      <td>0.363787</td>\n",
              "      <td>...</td>\n",
              "      <td>-0.018307</td>\n",
              "      <td>0.277838</td>\n",
              "      <td>-0.110474</td>\n",
              "      <td>0.066928</td>\n",
              "      <td>0.128539</td>\n",
              "      <td>-0.189115</td>\n",
              "      <td>0.133558</td>\n",
              "      <td>-0.021053</td>\n",
              "      <td>149.62</td>\n",
              "      <td>0.0</td>\n",
              "    </tr>\n",
              "    <tr>\n",
              "      <th>1</th>\n",
              "      <td>0</td>\n",
              "      <td>1.191857</td>\n",
              "      <td>0.266151</td>\n",
              "      <td>0.166480</td>\n",
              "      <td>0.448154</td>\n",
              "      <td>0.060018</td>\n",
              "      <td>-0.082361</td>\n",
              "      <td>-0.078803</td>\n",
              "      <td>0.085102</td>\n",
              "      <td>-0.255425</td>\n",
              "      <td>...</td>\n",
              "      <td>-0.225775</td>\n",
              "      <td>-0.638672</td>\n",
              "      <td>0.101288</td>\n",
              "      <td>-0.339846</td>\n",
              "      <td>0.167170</td>\n",
              "      <td>0.125895</td>\n",
              "      <td>-0.008983</td>\n",
              "      <td>0.014724</td>\n",
              "      <td>2.69</td>\n",
              "      <td>0.0</td>\n",
              "    </tr>\n",
              "    <tr>\n",
              "      <th>2</th>\n",
              "      <td>1</td>\n",
              "      <td>-1.358354</td>\n",
              "      <td>-1.340163</td>\n",
              "      <td>1.773209</td>\n",
              "      <td>0.379780</td>\n",
              "      <td>-0.503198</td>\n",
              "      <td>1.800499</td>\n",
              "      <td>0.791461</td>\n",
              "      <td>0.247676</td>\n",
              "      <td>-1.514654</td>\n",
              "      <td>...</td>\n",
              "      <td>0.247998</td>\n",
              "      <td>0.771679</td>\n",
              "      <td>0.909412</td>\n",
              "      <td>-0.689281</td>\n",
              "      <td>-0.327642</td>\n",
              "      <td>-0.139097</td>\n",
              "      <td>-0.055353</td>\n",
              "      <td>-0.059752</td>\n",
              "      <td>378.66</td>\n",
              "      <td>0.0</td>\n",
              "    </tr>\n",
              "    <tr>\n",
              "      <th>3</th>\n",
              "      <td>1</td>\n",
              "      <td>-0.966272</td>\n",
              "      <td>-0.185226</td>\n",
              "      <td>1.792993</td>\n",
              "      <td>-0.863291</td>\n",
              "      <td>-0.010309</td>\n",
              "      <td>1.247203</td>\n",
              "      <td>0.237609</td>\n",
              "      <td>0.377436</td>\n",
              "      <td>-1.387024</td>\n",
              "      <td>...</td>\n",
              "      <td>-0.108300</td>\n",
              "      <td>0.005274</td>\n",
              "      <td>-0.190321</td>\n",
              "      <td>-1.175575</td>\n",
              "      <td>0.647376</td>\n",
              "      <td>-0.221929</td>\n",
              "      <td>0.062723</td>\n",
              "      <td>0.061458</td>\n",
              "      <td>123.50</td>\n",
              "      <td>0.0</td>\n",
              "    </tr>\n",
              "    <tr>\n",
              "      <th>4</th>\n",
              "      <td>2</td>\n",
              "      <td>-1.158233</td>\n",
              "      <td>0.877737</td>\n",
              "      <td>1.548718</td>\n",
              "      <td>0.403034</td>\n",
              "      <td>-0.407193</td>\n",
              "      <td>0.095921</td>\n",
              "      <td>0.592941</td>\n",
              "      <td>-0.270533</td>\n",
              "      <td>0.817739</td>\n",
              "      <td>...</td>\n",
              "      <td>-0.009431</td>\n",
              "      <td>0.798278</td>\n",
              "      <td>-0.137458</td>\n",
              "      <td>0.141267</td>\n",
              "      <td>-0.206010</td>\n",
              "      <td>0.502292</td>\n",
              "      <td>0.219422</td>\n",
              "      <td>0.215153</td>\n",
              "      <td>69.99</td>\n",
              "      <td>0.0</td>\n",
              "    </tr>\n",
              "    <tr>\n",
              "      <th>...</th>\n",
              "      <td>...</td>\n",
              "      <td>...</td>\n",
              "      <td>...</td>\n",
              "      <td>...</td>\n",
              "      <td>...</td>\n",
              "      <td>...</td>\n",
              "      <td>...</td>\n",
              "      <td>...</td>\n",
              "      <td>...</td>\n",
              "      <td>...</td>\n",
              "      <td>...</td>\n",
              "      <td>...</td>\n",
              "      <td>...</td>\n",
              "      <td>...</td>\n",
              "      <td>...</td>\n",
              "      <td>...</td>\n",
              "      <td>...</td>\n",
              "      <td>...</td>\n",
              "      <td>...</td>\n",
              "      <td>...</td>\n",
              "      <td>...</td>\n",
              "    </tr>\n",
              "    <tr>\n",
              "      <th>59506</th>\n",
              "      <td>48869</td>\n",
              "      <td>0.846847</td>\n",
              "      <td>-0.740109</td>\n",
              "      <td>1.734920</td>\n",
              "      <td>0.973051</td>\n",
              "      <td>-0.908455</td>\n",
              "      <td>1.955373</td>\n",
              "      <td>-1.282036</td>\n",
              "      <td>0.785884</td>\n",
              "      <td>1.530679</td>\n",
              "      <td>...</td>\n",
              "      <td>0.108577</td>\n",
              "      <td>0.830381</td>\n",
              "      <td>0.111284</td>\n",
              "      <td>-0.338765</td>\n",
              "      <td>-0.038436</td>\n",
              "      <td>0.663828</td>\n",
              "      <td>0.107897</td>\n",
              "      <td>0.023937</td>\n",
              "      <td>44.00</td>\n",
              "      <td>0.0</td>\n",
              "    </tr>\n",
              "    <tr>\n",
              "      <th>59507</th>\n",
              "      <td>48870</td>\n",
              "      <td>-0.293073</td>\n",
              "      <td>0.287754</td>\n",
              "      <td>1.076909</td>\n",
              "      <td>-1.498707</td>\n",
              "      <td>0.030389</td>\n",
              "      <td>-0.094332</td>\n",
              "      <td>0.592840</td>\n",
              "      <td>-0.236917</td>\n",
              "      <td>-1.592913</td>\n",
              "      <td>...</td>\n",
              "      <td>-0.702190</td>\n",
              "      <td>-1.566421</td>\n",
              "      <td>0.092062</td>\n",
              "      <td>-0.345236</td>\n",
              "      <td>-0.562907</td>\n",
              "      <td>0.566838</td>\n",
              "      <td>-0.462258</td>\n",
              "      <td>-0.231659</td>\n",
              "      <td>26.00</td>\n",
              "      <td>0.0</td>\n",
              "    </tr>\n",
              "    <tr>\n",
              "      <th>59508</th>\n",
              "      <td>48870</td>\n",
              "      <td>-2.728620</td>\n",
              "      <td>2.789470</td>\n",
              "      <td>-0.019110</td>\n",
              "      <td>-0.345316</td>\n",
              "      <td>-0.983749</td>\n",
              "      <td>-0.665490</td>\n",
              "      <td>-0.452156</td>\n",
              "      <td>1.174699</td>\n",
              "      <td>0.050815</td>\n",
              "      <td>...</td>\n",
              "      <td>-0.080194</td>\n",
              "      <td>-0.098998</td>\n",
              "      <td>0.034646</td>\n",
              "      <td>-0.090487</td>\n",
              "      <td>0.025606</td>\n",
              "      <td>0.152858</td>\n",
              "      <td>-0.341898</td>\n",
              "      <td>-0.263507</td>\n",
              "      <td>1.99</td>\n",
              "      <td>0.0</td>\n",
              "    </tr>\n",
              "    <tr>\n",
              "      <th>59509</th>\n",
              "      <td>48870</td>\n",
              "      <td>-0.118399</td>\n",
              "      <td>1.825136</td>\n",
              "      <td>-0.621394</td>\n",
              "      <td>0.294209</td>\n",
              "      <td>1.095673</td>\n",
              "      <td>-2.164019</td>\n",
              "      <td>1.102808</td>\n",
              "      <td>-1.244775</td>\n",
              "      <td>-0.734142</td>\n",
              "      <td>...</td>\n",
              "      <td>0.595335</td>\n",
              "      <td>-0.750841</td>\n",
              "      <td>-0.418729</td>\n",
              "      <td>0.595806</td>\n",
              "      <td>1.411615</td>\n",
              "      <td>-0.561365</td>\n",
              "      <td>0.139271</td>\n",
              "      <td>0.280751</td>\n",
              "      <td>1.00</td>\n",
              "      <td>0.0</td>\n",
              "    </tr>\n",
              "    <tr>\n",
              "      <th>59510</th>\n",
              "      <td>48871</td>\n",
              "      <td>-2.101431</td>\n",
              "      <td>0.822359</td>\n",
              "      <td>0.342028</td>\n",
              "      <td>-0.592551</td>\n",
              "      <td>1.344203</td>\n",
              "      <td>4.774187</td>\n",
              "      <td>0.214765</td>\n",
              "      <td>1.215894</td>\n",
              "      <td>1.024100</td>\n",
              "      <td>...</td>\n",
              "      <td>NaN</td>\n",
              "      <td>NaN</td>\n",
              "      <td>NaN</td>\n",
              "      <td>NaN</td>\n",
              "      <td>NaN</td>\n",
              "      <td>NaN</td>\n",
              "      <td>NaN</td>\n",
              "      <td>NaN</td>\n",
              "      <td>NaN</td>\n",
              "      <td>NaN</td>\n",
              "    </tr>\n",
              "  </tbody>\n",
              "</table>\n",
              "<p>59511 rows × 31 columns</p>\n",
              "</div>\n",
              "      <button class=\"colab-df-convert\" onclick=\"convertToInteractive('df-4a22ebb3-1998-49d6-b051-1ba236f54eb0')\"\n",
              "              title=\"Convert this dataframe to an interactive table.\"\n",
              "              style=\"display:none;\">\n",
              "        \n",
              "  <svg xmlns=\"http://www.w3.org/2000/svg\" height=\"24px\"viewBox=\"0 0 24 24\"\n",
              "       width=\"24px\">\n",
              "    <path d=\"M0 0h24v24H0V0z\" fill=\"none\"/>\n",
              "    <path d=\"M18.56 5.44l.94 2.06.94-2.06 2.06-.94-2.06-.94-.94-2.06-.94 2.06-2.06.94zm-11 1L8.5 8.5l.94-2.06 2.06-.94-2.06-.94L8.5 2.5l-.94 2.06-2.06.94zm10 10l.94 2.06.94-2.06 2.06-.94-2.06-.94-.94-2.06-.94 2.06-2.06.94z\"/><path d=\"M17.41 7.96l-1.37-1.37c-.4-.4-.92-.59-1.43-.59-.52 0-1.04.2-1.43.59L10.3 9.45l-7.72 7.72c-.78.78-.78 2.05 0 2.83L4 21.41c.39.39.9.59 1.41.59.51 0 1.02-.2 1.41-.59l7.78-7.78 2.81-2.81c.8-.78.8-2.07 0-2.86zM5.41 20L4 18.59l7.72-7.72 1.47 1.35L5.41 20z\"/>\n",
              "  </svg>\n",
              "      </button>\n",
              "      \n",
              "  <style>\n",
              "    .colab-df-container {\n",
              "      display:flex;\n",
              "      flex-wrap:wrap;\n",
              "      gap: 12px;\n",
              "    }\n",
              "\n",
              "    .colab-df-convert {\n",
              "      background-color: #E8F0FE;\n",
              "      border: none;\n",
              "      border-radius: 50%;\n",
              "      cursor: pointer;\n",
              "      display: none;\n",
              "      fill: #1967D2;\n",
              "      height: 32px;\n",
              "      padding: 0 0 0 0;\n",
              "      width: 32px;\n",
              "    }\n",
              "\n",
              "    .colab-df-convert:hover {\n",
              "      background-color: #E2EBFA;\n",
              "      box-shadow: 0px 1px 2px rgba(60, 64, 67, 0.3), 0px 1px 3px 1px rgba(60, 64, 67, 0.15);\n",
              "      fill: #174EA6;\n",
              "    }\n",
              "\n",
              "    [theme=dark] .colab-df-convert {\n",
              "      background-color: #3B4455;\n",
              "      fill: #D2E3FC;\n",
              "    }\n",
              "\n",
              "    [theme=dark] .colab-df-convert:hover {\n",
              "      background-color: #434B5C;\n",
              "      box-shadow: 0px 1px 3px 1px rgba(0, 0, 0, 0.15);\n",
              "      filter: drop-shadow(0px 1px 2px rgba(0, 0, 0, 0.3));\n",
              "      fill: #FFFFFF;\n",
              "    }\n",
              "  </style>\n",
              "\n",
              "      <script>\n",
              "        const buttonEl =\n",
              "          document.querySelector('#df-4a22ebb3-1998-49d6-b051-1ba236f54eb0 button.colab-df-convert');\n",
              "        buttonEl.style.display =\n",
              "          google.colab.kernel.accessAllowed ? 'block' : 'none';\n",
              "\n",
              "        async function convertToInteractive(key) {\n",
              "          const element = document.querySelector('#df-4a22ebb3-1998-49d6-b051-1ba236f54eb0');\n",
              "          const dataTable =\n",
              "            await google.colab.kernel.invokeFunction('convertToInteractive',\n",
              "                                                     [key], {});\n",
              "          if (!dataTable) return;\n",
              "\n",
              "          const docLinkHtml = 'Like what you see? Visit the ' +\n",
              "            '<a target=\"_blank\" href=https://colab.research.google.com/notebooks/data_table.ipynb>data table notebook</a>'\n",
              "            + ' to learn more about interactive tables.';\n",
              "          element.innerHTML = '';\n",
              "          dataTable['output_type'] = 'display_data';\n",
              "          await google.colab.output.renderOutput(dataTable, element);\n",
              "          const docLink = document.createElement('div');\n",
              "          docLink.innerHTML = docLinkHtml;\n",
              "          element.appendChild(docLink);\n",
              "        }\n",
              "      </script>\n",
              "    </div>\n",
              "  </div>\n",
              "  "
            ]
          },
          "metadata": {},
          "execution_count": 8
        }
      ]
    },
    {
      "cell_type": "code",
      "source": [
        "sc = StandardScaler()\n",
        "dataset['Time'] = sc.fit_transform(dataset['Time'].values.reshape(-1,1))\n",
        "dataset['Amount'] = sc.fit_transform(dataset['Amount'].values.reshape(-1,1))"
      ],
      "metadata": {
        "id": "7he8o70PCDNP"
      },
      "execution_count": 9,
      "outputs": []
    },
    {
      "cell_type": "code",
      "source": [
        "raw_data = dataset.values\n",
        "#The last element contains if the transcation is normal which is represented by 0 and if frau\n",
        "labels = raw_data[:,-1]"
      ],
      "metadata": {
        "id": "Hc3q9VTSCDSp"
      },
      "execution_count": 10,
      "outputs": []
    },
    {
      "cell_type": "code",
      "source": [
        "data = raw_data[:,0:-1]\n",
        "train_data,test_data,train_labels,test_labels = train_test_split(data,labels,test_size = 0.2,random_state = 1)\n",
        "min_val = tf.reduce_min(train_data)\n",
        "max_val = tf.reduce_max(train_data)"
      ],
      "metadata": {
        "id": "ZqRPdAxHCDXc"
      },
      "execution_count": 13,
      "outputs": []
    },
    {
      "cell_type": "code",
      "source": [
        "train_data = (train_data - min_val) / (max_val - min_val)\n",
        "test_data = (test_data - min_val) / (max_val - min_val)\n",
        "train_data = tf.cast(train_data,tf.float32)\n",
        "test_data = tf.cast(test_data,tf.float32)\n",
        "train_labels = train_labels.astype(bool)\n",
        "test_labels = test_labels.astype(bool)\n",
        "#Creating normal and fraud datasets\n",
        "normal_train_data = train_data[~train_labels]\n",
        "normal_test_data = test_data[~test_labels]\n",
        "fraud_train_data = train_data[train_labels]\n",
        "fraud_test_data = test_data[test_labels]\n",
        "print(\"No. of records in Fraud Train Data=\",len(fraud_train_data))\n",
        "print(\"No. of records in Normal Train Data=\",len(normal_train_data))\n",
        "print(\"No. of records in Fraud Test Data=\",len(fraud_test_data))\n",
        "print(\"No. of records in Normal Test Data=\",len(normal_test_data))"
      ],
      "metadata": {
        "id": "Zr0e5rScCDbx",
        "outputId": "149f023a-b165-47a5-c553-587afc6d21d8",
        "colab": {
          "base_uri": "https://localhost:8080/"
        }
      },
      "execution_count": 14,
      "outputs": [
        {
          "output_type": "stream",
          "name": "stdout",
          "text": [
            "No. of records in Fraud Train Data= 133\n",
            "No. of records in Normal Train Data= 47475\n",
            "No. of records in Fraud Test Data= 30\n",
            "No. of records in Normal Test Data= 11873\n"
          ]
        }
      ]
    },
    {
      "cell_type": "code",
      "source": [
        "nb_epoch = 50\n",
        "batch_size = 64\n",
        "input_dim = normal_train_data.shape[1]\n",
        "#num of columns,30\n",
        "encoding_dim = 14\n",
        "hidden_dim1 = int(encoding_dim / 2)\n",
        "hidden_dim2 = 4\n",
        "learning_rate = 1e-7"
      ],
      "metadata": {
        "id": "pH1sXqeJCDgx"
      },
      "execution_count": 15,
      "outputs": []
    },
    {
      "cell_type": "code",
      "source": [
        "#input Layer\n",
        "input_layer = tf.keras.layers.Input(shape=(input_dim, ))\n",
        "#Encoder\n",
        "encoder = tf.keras.layers.Dense(encoding_dim, activation=\"tanh\",                                activity_regularizer=tf.keras.regularizers.l2(learning_rate))(input_layer)\n",
        "encoder=tf.keras.layers.Dropout(0.2)(encoder)\n",
        "encoder = tf.keras.layers.Dense(hidden_dim1,activation='relu')(encoder)\n",
        "encoder = tf.keras.layers.Dense(hidden_dim2,activation=tf.nn.leaky_relu)(encoder)\n",
        "#Decoder\n",
        "decoder = tf.keras.layers.Dense(hidden_dim1,activation='relu')(encoder)\n",
        "decoder = tf.keras.layers.Dropout(0.2)(decoder)\n",
        "decoder = tf.keras.layers.Dense(encoding_dim,activation='relu')(decoder)\n",
        "decoder = tf.keras.layers.Dense(input_dim,activation='tanh')(decoder)\n",
        "#Autoencoder\n",
        "autoencoder = tf.keras.Model(inputs = input_layer,outputs = decoder)\n",
        "autoencoder.summary()\n"
      ],
      "metadata": {
        "id": "tF3ruyjWCDlO",
        "outputId": "a73f98d5-68db-4a5b-e9aa-75de72595461",
        "colab": {
          "base_uri": "https://localhost:8080/"
        }
      },
      "execution_count": 21,
      "outputs": [
        {
          "output_type": "stream",
          "name": "stdout",
          "text": [
            "Model: \"model\"\n",
            "_________________________________________________________________\n",
            " Layer (type)                Output Shape              Param #   \n",
            "=================================================================\n",
            " input_5 (InputLayer)        [(None, 30)]              0         \n",
            "                                                                 \n",
            " dense_4 (Dense)             (None, 14)                434       \n",
            "                                                                 \n",
            " dropout_3 (Dropout)         (None, 14)                0         \n",
            "                                                                 \n",
            " dense_5 (Dense)             (None, 7)                 105       \n",
            "                                                                 \n",
            " dense_6 (Dense)             (None, 4)                 32        \n",
            "                                                                 \n",
            " dense_7 (Dense)             (None, 7)                 35        \n",
            "                                                                 \n",
            " dropout_4 (Dropout)         (None, 7)                 0         \n",
            "                                                                 \n",
            " dense_8 (Dense)             (None, 14)                112       \n",
            "                                                                 \n",
            " dense_9 (Dense)             (None, 30)                450       \n",
            "                                                                 \n",
            "=================================================================\n",
            "Total params: 1,168\n",
            "Trainable params: 1,168\n",
            "Non-trainable params: 0\n",
            "_________________________________________________________________\n"
          ]
        }
      ]
    },
    {
      "cell_type": "code",
      "source": [
        "cp = tf.keras.callbacks.ModelCheckpoint(filepath=\"autoencoder_fraud.h5\",mode='min',monitor='val_loss', verbose=2, save_best_only=True)\n",
        "#Define our early stopping\n",
        "early_stop = tf.keras.callbacks.EarlyStopping(\n",
        "monitor='val_loss',\n",
        "min_delta=0.0001,\n",
        "patience=10,\n",
        "verbose=11,\n",
        "mode='min',\n",
        "restore_best_weights=True\n",
        ")\n",
        "autoencoder.compile(metrics=['accuracy'],loss= 'mean_squared_error',optimizer='adam')\n",
        "history = autoencoder.fit(normal_train_data,normal_train_data,epochs = nb_epoch,\n",
        "batch_size = batch_size,shuffle = True,\n",
        "validation_data = (test_data,test_data),\n",
        "verbose=1,\n",
        "callbacks = [cp,early_stop]).history"
      ],
      "metadata": {
        "id": "OiFU-iCcD15N",
        "outputId": "1247dae3-2e76-42d2-ce0c-fe3e3eb02900",
        "colab": {
          "base_uri": "https://localhost:8080/"
        }
      },
      "execution_count": 23,
      "outputs": [
        {
          "output_type": "stream",
          "name": "stdout",
          "text": [
            "Epoch 1/50\n",
            "737/742 [============================>.] - ETA: 0s - loss: nan - accuracy: 1.0000\n",
            "Epoch 1: val_loss did not improve from inf\n",
            "742/742 [==============================] - 3s 3ms/step - loss: nan - accuracy: 1.0000 - val_loss: nan - val_accuracy: 1.0000\n",
            "Epoch 2/50\n",
            "736/742 [============================>.] - ETA: 0s - loss: nan - accuracy: 1.0000\n",
            "Epoch 2: val_loss did not improve from inf\n",
            "742/742 [==============================] - 2s 2ms/step - loss: nan - accuracy: 1.0000 - val_loss: nan - val_accuracy: 1.0000\n",
            "Epoch 3/50\n",
            "719/742 [============================>.] - ETA: 0s - loss: nan - accuracy: 1.0000\n",
            "Epoch 3: val_loss did not improve from inf\n",
            "742/742 [==============================] - 2s 2ms/step - loss: nan - accuracy: 1.0000 - val_loss: nan - val_accuracy: 1.0000\n",
            "Epoch 4/50\n",
            "742/742 [==============================] - ETA: 0s - loss: nan - accuracy: 1.0000\n",
            "Epoch 4: val_loss did not improve from inf\n",
            "742/742 [==============================] - 2s 3ms/step - loss: nan - accuracy: 1.0000 - val_loss: nan - val_accuracy: 1.0000\n",
            "Epoch 5/50\n",
            "719/742 [============================>.] - ETA: 0s - loss: nan - accuracy: 1.0000\n",
            "Epoch 5: val_loss did not improve from inf\n",
            "742/742 [==============================] - 2s 2ms/step - loss: nan - accuracy: 1.0000 - val_loss: nan - val_accuracy: 1.0000\n",
            "Epoch 6/50\n",
            "734/742 [============================>.] - ETA: 0s - loss: nan - accuracy: 1.0000\n",
            "Epoch 6: val_loss did not improve from inf\n",
            "742/742 [==============================] - 2s 3ms/step - loss: nan - accuracy: 1.0000 - val_loss: nan - val_accuracy: 1.0000\n",
            "Epoch 7/50\n",
            "734/742 [============================>.] - ETA: 0s - loss: nan - accuracy: 1.0000\n",
            "Epoch 7: val_loss did not improve from inf\n",
            "742/742 [==============================] - 2s 2ms/step - loss: nan - accuracy: 1.0000 - val_loss: nan - val_accuracy: 1.0000\n",
            "Epoch 8/50\n",
            "741/742 [============================>.] - ETA: 0s - loss: nan - accuracy: 1.0000\n",
            "Epoch 8: val_loss did not improve from inf\n",
            "742/742 [==============================] - 2s 3ms/step - loss: nan - accuracy: 1.0000 - val_loss: nan - val_accuracy: 1.0000\n",
            "Epoch 9/50\n",
            "726/742 [============================>.] - ETA: 0s - loss: nan - accuracy: 1.0000\n",
            "Epoch 9: val_loss did not improve from inf\n",
            "742/742 [==============================] - 2s 2ms/step - loss: nan - accuracy: 1.0000 - val_loss: nan - val_accuracy: 1.0000\n",
            "Epoch 10/50\n",
            "739/742 [============================>.] - ETA: 0s - loss: nan - accuracy: 1.0000\n",
            "Epoch 10: val_loss did not improve from inf\n",
            "Restoring model weights from the end of the best epoch: 1.\n",
            "742/742 [==============================] - 2s 2ms/step - loss: nan - accuracy: 1.0000 - val_loss: nan - val_accuracy: 1.0000\n",
            "Epoch 10: early stopping\n"
          ]
        }
      ]
    },
    {
      "cell_type": "code",
      "source": [
        "plt.plot(history['loss'], linewidth=2, label='Train')\n",
        "plt.plot(history['val_loss'], linewidth=2, label='Test')\n",
        "plt.legend(loc='upper right')\n",
        "plt.title('Model loss')\n",
        "plt.ylabel('Loss')\n",
        "plt.xlabel('Epoch')\n",
        "#plt.ylim(ymin=0.70,ymax=1)\n",
        "plt.show()"
      ],
      "metadata": {
        "id": "ThnyUzUYD1_x",
        "outputId": "e9045555-10cd-44ef-9c36-85102176fe28",
        "colab": {
          "base_uri": "https://localhost:8080/",
          "height": 295
        }
      },
      "execution_count": 28,
      "outputs": [
        {
          "output_type": "display_data",
          "data": {
            "text/plain": [
              "<Figure size 432x288 with 1 Axes>"
            ],
            "image/png": "[encoded data removed]"
          },
          "metadata": {
            "needs_background": "light"
          }
        }
      ]
    },
    {
      "cell_type": "code",
      "source": [
        "test_x_predictions = autoencoder.predict(test_data)\n",
        "mse = np.mean(np.power(test_data - test_x_predictions, 2),axis = 1)\n",
        "error_df = pd.DataFrame({'Reconstruction_error':mse,\n",
        "'True_class':test_labels})"
      ],
      "metadata": {
        "id": "APq2AKtPD2Fb",
        "outputId": "b03b4ab1-8466-4887-c3e8-6ea6ced2fc29",
        "colab": {
          "base_uri": "https://localhost:8080/"
        }
      },
      "execution_count": 25,
      "outputs": [
        {
          "output_type": "stream",
          "name": "stdout",
          "text": [
            "372/372 [==============================] - 1s 2ms/step\n"
          ]
        }
      ]
    },
    {
      "cell_type": "code",
      "source": [
        "threshold_fixed = 50\n",
        "groups = error_df.groupby('True_class')\n",
        "fig,ax = plt.subplots()\n",
        "for name,group in groups:\n",
        " ax.plot(group.index, group.Reconstruction_error, marker='o', ms=3.5, linestyle='',label= \"Fraud\" if name == 1 else \"Normal\")\n",
        "ax.hlines(threshold_fixed,ax.get_xlim()[0],ax.get_xlim()[1],colors=\"r\",zorder=100,label=\"Threshold\")\n",
        "ax.legend()\n",
        "plt.title(\"Reconstructions error for normal and fraud data\")\n",
        "plt.ylabel(\"Reconstruction error\")\n",
        "plt.xlabel(\"Data point index\")\n",
        "plt.show()"
      ],
      "metadata": {
        "id": "PfqshwRdD2Lc",
        "outputId": "b2aa4e84-d0bf-4534-87c2-2c1ffe6c7b83",
        "colab": {
          "base_uri": "https://localhost:8080/",
          "height": 295
        }
      },
      "execution_count": 31,
      "outputs": [
        {
          "output_type": "display_data",
          "data": {
            "text/plain": [
              "<Figure size 432x288 with 1 Axes>"
            ],
            "image/png": "[encoded data removed]"
          },
          "metadata": {
            "needs_background": "light"
          }
        }
      ]
    },
    {
      "cell_type": "code",
      "source": [
        "threshold_fixed = 52\n",
        "pred_y = [1 if e > threshold_fixed else 0\n",
        "for e in\n",
        "error_df.Reconstruction_error.values]\n",
        "error_df['pred'] = pred_y\n",
        "conf_matrix = confusion_matrix(error_df.True_class,pred_y)\n",
        "plt.figure(figsize = (4,4))\n",
        "sns.heatmap(conf_matrix,xticklabels = LABELS,yticklabels = LABELS,annot = True,fmt=\"d\")\n",
        "plt.title(\"Confusion matrix\")\n",
        "plt.ylabel(\"True class\")\n",
        "plt.xlabel(\"Predicted class\")\n",
        "plt.show()\n",
        "#Print Accuracy,Precision and Recall\n",
        "print(\"Accuracy :\",accuracy_score(error_df['True_class'],error_df['pred']))\n",
        "print(\"Recall :\",recall_score(error_df['True_class'],error_df['pred']))\n",
        "print(\"Precision :\",precision_score(error_df['True_class'],error_df['pred']))"
      ],
      "metadata": {
        "id": "i7C18PfDD2Qh",
        "outputId": "ad7d6646-6df9-4026-ec2b-7f1ce5ea299f",
        "colab": {
          "base_uri": "https://localhost:8080/",
          "height": 402
        }
      },
      "execution_count": 32,
      "outputs": [
        {
          "output_type": "display_data",
          "data": {
            "text/plain": [
              "<Figure size 288x288 with 2 Axes>"
            ],
            "image/png": "[encoded data removed]"
          },
          "metadata": {
            "needs_background": "light"
          }
        },
        {
          "output_type": "stream",
          "name": "stdout",
          "text": [
            "Accuracy : 0.9974796269847938\n",
            "Recall : 0.0\n",
            "Precision : 0.0\n"
          ]
        },
        {
          "output_type": "stream",
          "name": "stderr",
          "text": [
            "/usr/local/lib/python3.7/dist-packages/sklearn/metrics/_classification.py:1318: UndefinedMetricWarning: Precision is ill-defined and being set to 0.0 due to no predicted samples. Use `zero_division` parameter to control this behavior.\n",
            "  _warn_prf(average, modifier, msg_start, len(result))\n"
          ]
        }
      ]
    },
    {
      "cell_type": "code",
      "source": [],
      "metadata": {
        "id": "-YwAj2PyD2Vl"
      },
      "execution_count": null,
      "outputs": []
    }
  ]
}